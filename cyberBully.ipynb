{
  "cells": [
    {
      "cell_type": "markdown",
      "metadata": {
        "id": "view-in-github",
        "colab_type": "text"
      },
      "source": [
        "<a href=\"https://colab.research.google.com/github/RajeevPrakashAD1/ai_ml/blob/master/cyberBully.ipynb\" target=\"_parent\"><img src=\"https://colab.research.google.com/assets/colab-badge.svg\" alt=\"Open In Colab\"/></a>"
      ]
    },
    {
      "cell_type": "code",
      "execution_count": null,
      "metadata": {
        "id": "DQAAZH-pQ_Za"
      },
      "outputs": [],
      "source": []
    },
    {
      "cell_type": "markdown",
      "metadata": {
        "id": "wF1cwviRfBFC"
      },
      "source": [
        "#Data Loadinng\n"
      ]
    },
    {
      "cell_type": "code",
      "execution_count": 1,
      "metadata": {
        "colab": {
          "base_uri": "https://localhost:8080/",
          "height": 423
        },
        "id": "t2l33GrzfJIg",
        "outputId": "f32cf697-68b5-4e62-9596-599466a268c7"
      },
      "outputs": [
        {
          "output_type": "execute_result",
          "data": {
            "text/plain": [
              "                                              tweet_text cyberbullying_type\n",
              "0      In other words #katandandre, your food was cra...  not_cyberbullying\n",
              "1      Why is #aussietv so white? #MKR #theblock #ImA...  not_cyberbullying\n",
              "2      @XochitlSuckkks a classy whore? Or more red ve...  not_cyberbullying\n",
              "3      @Jason_Gio meh. :P  thanks for the heads up, b...  not_cyberbullying\n",
              "4      @RudhoeEnglish This is an ISIS account pretend...  not_cyberbullying\n",
              "...                                                  ...                ...\n",
              "47687  Black ppl aren't expected to do anything, depe...          ethnicity\n",
              "47688  Turner did not withhold his disappointment. Tu...          ethnicity\n",
              "47689  I swear to God. This dumb nigger bitch. I have...          ethnicity\n",
              "47690  Yea fuck you RT @therealexel: IF YOURE A NIGGE...          ethnicity\n",
              "47691  Bro. U gotta chill RT @CHILLShrammy: Dog FUCK ...          ethnicity\n",
              "\n",
              "[47692 rows x 2 columns]"
            ],
            "text/html": [
              "\n",
              "  <div id=\"df-bcfcaaa5-f94b-4e41-9713-975467974377\">\n",
              "    <div class=\"colab-df-container\">\n",
              "      <div>\n",
              "<style scoped>\n",
              "    .dataframe tbody tr th:only-of-type {\n",
              "        vertical-align: middle;\n",
              "    }\n",
              "\n",
              "    .dataframe tbody tr th {\n",
              "        vertical-align: top;\n",
              "    }\n",
              "\n",
              "    .dataframe thead th {\n",
              "        text-align: right;\n",
              "    }\n",
              "</style>\n",
              "<table border=\"1\" class=\"dataframe\">\n",
              "  <thead>\n",
              "    <tr style=\"text-align: right;\">\n",
              "      <th></th>\n",
              "      <th>tweet_text</th>\n",
              "      <th>cyberbullying_type</th>\n",
              "    </tr>\n",
              "  </thead>\n",
              "  <tbody>\n",
              "    <tr>\n",
              "      <th>0</th>\n",
              "      <td>In other words #katandandre, your food was cra...</td>\n",
              "      <td>not_cyberbullying</td>\n",
              "    </tr>\n",
              "    <tr>\n",
              "      <th>1</th>\n",
              "      <td>Why is #aussietv so white? #MKR #theblock #ImA...</td>\n",
              "      <td>not_cyberbullying</td>\n",
              "    </tr>\n",
              "    <tr>\n",
              "      <th>2</th>\n",
              "      <td>@XochitlSuckkks a classy whore? Or more red ve...</td>\n",
              "      <td>not_cyberbullying</td>\n",
              "    </tr>\n",
              "    <tr>\n",
              "      <th>3</th>\n",
              "      <td>@Jason_Gio meh. :P  thanks for the heads up, b...</td>\n",
              "      <td>not_cyberbullying</td>\n",
              "    </tr>\n",
              "    <tr>\n",
              "      <th>4</th>\n",
              "      <td>@RudhoeEnglish This is an ISIS account pretend...</td>\n",
              "      <td>not_cyberbullying</td>\n",
              "    </tr>\n",
              "    <tr>\n",
              "      <th>...</th>\n",
              "      <td>...</td>\n",
              "      <td>...</td>\n",
              "    </tr>\n",
              "    <tr>\n",
              "      <th>47687</th>\n",
              "      <td>Black ppl aren't expected to do anything, depe...</td>\n",
              "      <td>ethnicity</td>\n",
              "    </tr>\n",
              "    <tr>\n",
              "      <th>47688</th>\n",
              "      <td>Turner did not withhold his disappointment. Tu...</td>\n",
              "      <td>ethnicity</td>\n",
              "    </tr>\n",
              "    <tr>\n",
              "      <th>47689</th>\n",
              "      <td>I swear to God. This dumb nigger bitch. I have...</td>\n",
              "      <td>ethnicity</td>\n",
              "    </tr>\n",
              "    <tr>\n",
              "      <th>47690</th>\n",
              "      <td>Yea fuck you RT @therealexel: IF YOURE A NIGGE...</td>\n",
              "      <td>ethnicity</td>\n",
              "    </tr>\n",
              "    <tr>\n",
              "      <th>47691</th>\n",
              "      <td>Bro. U gotta chill RT @CHILLShrammy: Dog FUCK ...</td>\n",
              "      <td>ethnicity</td>\n",
              "    </tr>\n",
              "  </tbody>\n",
              "</table>\n",
              "<p>47692 rows × 2 columns</p>\n",
              "</div>\n",
              "      <button class=\"colab-df-convert\" onclick=\"convertToInteractive('df-bcfcaaa5-f94b-4e41-9713-975467974377')\"\n",
              "              title=\"Convert this dataframe to an interactive table.\"\n",
              "              style=\"display:none;\">\n",
              "        \n",
              "  <svg xmlns=\"http://www.w3.org/2000/svg\" height=\"24px\"viewBox=\"0 0 24 24\"\n",
              "       width=\"24px\">\n",
              "    <path d=\"M0 0h24v24H0V0z\" fill=\"none\"/>\n",
              "    <path d=\"M18.56 5.44l.94 2.06.94-2.06 2.06-.94-2.06-.94-.94-2.06-.94 2.06-2.06.94zm-11 1L8.5 8.5l.94-2.06 2.06-.94-2.06-.94L8.5 2.5l-.94 2.06-2.06.94zm10 10l.94 2.06.94-2.06 2.06-.94-2.06-.94-.94-2.06-.94 2.06-2.06.94z\"/><path d=\"M17.41 7.96l-1.37-1.37c-.4-.4-.92-.59-1.43-.59-.52 0-1.04.2-1.43.59L10.3 9.45l-7.72 7.72c-.78.78-.78 2.05 0 2.83L4 21.41c.39.39.9.59 1.41.59.51 0 1.02-.2 1.41-.59l7.78-7.78 2.81-2.81c.8-.78.8-2.07 0-2.86zM5.41 20L4 18.59l7.72-7.72 1.47 1.35L5.41 20z\"/>\n",
              "  </svg>\n",
              "      </button>\n",
              "      \n",
              "  <style>\n",
              "    .colab-df-container {\n",
              "      display:flex;\n",
              "      flex-wrap:wrap;\n",
              "      gap: 12px;\n",
              "    }\n",
              "\n",
              "    .colab-df-convert {\n",
              "      background-color: #E8F0FE;\n",
              "      border: none;\n",
              "      border-radius: 50%;\n",
              "      cursor: pointer;\n",
              "      display: none;\n",
              "      fill: #1967D2;\n",
              "      height: 32px;\n",
              "      padding: 0 0 0 0;\n",
              "      width: 32px;\n",
              "    }\n",
              "\n",
              "    .colab-df-convert:hover {\n",
              "      background-color: #E2EBFA;\n",
              "      box-shadow: 0px 1px 2px rgba(60, 64, 67, 0.3), 0px 1px 3px 1px rgba(60, 64, 67, 0.15);\n",
              "      fill: #174EA6;\n",
              "    }\n",
              "\n",
              "    [theme=dark] .colab-df-convert {\n",
              "      background-color: #3B4455;\n",
              "      fill: #D2E3FC;\n",
              "    }\n",
              "\n",
              "    [theme=dark] .colab-df-convert:hover {\n",
              "      background-color: #434B5C;\n",
              "      box-shadow: 0px 1px 3px 1px rgba(0, 0, 0, 0.15);\n",
              "      filter: drop-shadow(0px 1px 2px rgba(0, 0, 0, 0.3));\n",
              "      fill: #FFFFFF;\n",
              "    }\n",
              "  </style>\n",
              "\n",
              "      <script>\n",
              "        const buttonEl =\n",
              "          document.querySelector('#df-bcfcaaa5-f94b-4e41-9713-975467974377 button.colab-df-convert');\n",
              "        buttonEl.style.display =\n",
              "          google.colab.kernel.accessAllowed ? 'block' : 'none';\n",
              "\n",
              "        async function convertToInteractive(key) {\n",
              "          const element = document.querySelector('#df-bcfcaaa5-f94b-4e41-9713-975467974377');\n",
              "          const dataTable =\n",
              "            await google.colab.kernel.invokeFunction('convertToInteractive',\n",
              "                                                     [key], {});\n",
              "          if (!dataTable) return;\n",
              "\n",
              "          const docLinkHtml = 'Like what you see? Visit the ' +\n",
              "            '<a target=\"_blank\" href=https://colab.research.google.com/notebooks/data_table.ipynb>data table notebook</a>'\n",
              "            + ' to learn more about interactive tables.';\n",
              "          element.innerHTML = '';\n",
              "          dataTable['output_type'] = 'display_data';\n",
              "          await google.colab.output.renderOutput(dataTable, element);\n",
              "          const docLink = document.createElement('div');\n",
              "          docLink.innerHTML = docLinkHtml;\n",
              "          element.appendChild(docLink);\n",
              "        }\n",
              "      </script>\n",
              "    </div>\n",
              "  </div>\n",
              "  "
            ]
          },
          "metadata": {},
          "execution_count": 1
        }
      ],
      "source": [
        "import pandas as pd\n",
        "df = pd.read_csv(\"/content/drive/MyDrive/Colab Notebooks/cyberbully/cyberbullying_tweets.csv\")\n",
        "df"
      ]
    },
    {
      "cell_type": "code",
      "execution_count": 2,
      "metadata": {
        "colab": {
          "base_uri": "https://localhost:8080/"
        },
        "id": "9Bqm0dPzhdRd",
        "outputId": "1ceaad5a-2461-4ecd-e34c-2e8779a15f1d"
      },
      "outputs": [
        {
          "output_type": "execute_result",
          "data": {
            "text/plain": [
              "array(['not_cyberbullying', 'gender', 'religion', 'other_cyberbullying',\n",
              "       'age', 'ethnicity'], dtype=object)"
            ]
          },
          "metadata": {},
          "execution_count": 2
        }
      ],
      "source": [
        "df[\"cyberbullying_type\"].unique()"
      ]
    },
    {
      "cell_type": "markdown",
      "metadata": {
        "id": "DWNqQla2fecK"
      },
      "source": [
        "# Data preprocessing\n"
      ]
    },
    {
      "cell_type": "code",
      "execution_count": 3,
      "metadata": {
        "colab": {
          "base_uri": "https://localhost:8080/"
        },
        "id": "Q9vQMSGXfuC4",
        "outputId": "1fc60b3d-4c6e-4070-93f9-75b51194d084"
      },
      "outputs": [
        {
          "output_type": "execute_result",
          "data": {
            "text/plain": [
              "False"
            ]
          },
          "metadata": {},
          "execution_count": 3
        }
      ],
      "source": [
        "df[\"tweet_text\"].isnull().values.any()\n",
        "df[\"cyberbullying_type\"].isnull().values.any()"
      ]
    },
    {
      "cell_type": "code",
      "execution_count": 4,
      "metadata": {
        "colab": {
          "base_uri": "https://localhost:8080/"
        },
        "id": "1q__UPP5m83C",
        "outputId": "9db46fbe-336e-4c61-86fa-f1be7af64ce1"
      },
      "outputs": [
        {
          "output_type": "stream",
          "name": "stdout",
          "text": [
            "0        In other words #katandandre, your food was cra...\n",
            "1        Why is #aussietv so white? #MKR #theblock #ImA...\n",
            "2        @XochitlSuckkks a classy whore? Or more red ve...\n",
            "3        @Jason_Gio meh. :P  thanks for the heads up, b...\n",
            "4        @RudhoeEnglish This is an ISIS account pretend...\n",
            "                               ...                        \n",
            "47687    Black ppl aren't expected to do anything, depe...\n",
            "47688    Turner did not withhold his disappointment. Tu...\n",
            "47689    I swear to God. This dumb nigger bitch. I have...\n",
            "47690    Yea fuck you RT @therealexel: IF YOURE A NIGGE...\n",
            "47691    Bro. U gotta chill RT @CHILLShrammy: Dog FUCK ...\n",
            "Name: tweet_text, Length: 47692, dtype: object\n"
          ]
        }
      ],
      "source": [
        "messages = df[\"tweet_text\"].copy()\n",
        "\n",
        "print(messages)"
      ]
    },
    {
      "cell_type": "code",
      "execution_count": 5,
      "metadata": {
        "colab": {
          "base_uri": "https://localhost:8080/"
        },
        "id": "dr3ZcHDQrQgE",
        "outputId": "38ac02ad-590f-4073-edd5-da266b7a71a5"
      },
      "outputs": [
        {
          "output_type": "stream",
          "name": "stdout",
          "text": [
            "0        not_cyberbullying\n",
            "1        not_cyberbullying\n",
            "2        not_cyberbullying\n",
            "3        not_cyberbullying\n",
            "4        not_cyberbullying\n",
            "               ...        \n",
            "47687            ethnicity\n",
            "47688            ethnicity\n",
            "47689            ethnicity\n",
            "47690            ethnicity\n",
            "47691            ethnicity\n",
            "Name: cyberbullying_type, Length: 47692, dtype: object\n",
            "not_cyberbullying\n"
          ]
        }
      ],
      "source": [
        "\n",
        "yy = df[\"cyberbullying_type\"].copy()\n",
        "\n",
        "\n",
        "for i in range(len(yy)):\n",
        "    #print(yy[i])\n",
        "  \n",
        "    if yy[i] == \"not_cyberbullying\":\n",
        "      #nc += 1\n",
        "      yy[i] = 0\n",
        "    else:\n",
        "      #c += 1\n",
        "      yy[i] = 1\n",
        "    #print(yy[i])\n",
        "\n",
        "\n",
        "\n",
        "\n"
      ]
    },
    {
      "cell_type": "code",
      "execution_count": 6,
      "metadata": {
        "id": "BqXlXf_OhDUd"
      },
      "outputs": [],
      "source": [
        "import nltk\n",
        "import re\n",
        "from nltk.corpus import stopwords\n"
      ]
    },
    {
      "cell_type": "code",
      "execution_count": 7,
      "metadata": {
        "colab": {
          "base_uri": "https://localhost:8080/"
        },
        "id": "4jGHKk8cnkgW",
        "outputId": "939fb450-61ed-4adf-e129-9cedc4f68922"
      },
      "outputs": [
        {
          "output_type": "stream",
          "name": "stderr",
          "text": [
            "[nltk_data] Downloading package stopwords to /root/nltk_data...\n",
            "[nltk_data]   Unzipping corpora/stopwords.zip.\n"
          ]
        },
        {
          "output_type": "execute_result",
          "data": {
            "text/plain": [
              "True"
            ]
          },
          "metadata": {},
          "execution_count": 7
        }
      ],
      "source": [
        "nltk.download('stopwords')"
      ]
    },
    {
      "cell_type": "code",
      "execution_count": 8,
      "metadata": {
        "id": "PKaKKPtmm6dL"
      },
      "outputs": [],
      "source": [
        "from nltk.stem.porter import PorterStemmer\n",
        "ps = PorterStemmer()\n",
        "processed_sentences = []\n",
        "for i in range(0, len(messages)):\n",
        "    #print(i)\n",
        "    review = re.sub('[^a-zA-Z]', ' ', messages[i])\n",
        "    review = review.lower()\n",
        "    review = review.split()\n",
        "    \n",
        "    review = [ps.stem(word) for word in review if not word in stopwords.words('english')]\n",
        "    review = ' '.join(review)\n",
        "    processed_sentences.append(review)\n",
        "\n"
      ]
    },
    {
      "cell_type": "code",
      "execution_count": 37,
      "metadata": {
        "colab": {
          "base_uri": "https://localhost:8080/"
        },
        "id": "pwynZACAoQCT",
        "outputId": "901ae99f-f758-4d33-ccf4-827fce98bb23"
      },
      "outputs": [
        {
          "output_type": "stream",
          "name": "stdout",
          "text": [
            "word katandandr food crapilici mkr\n",
            "aussietv white mkr theblock imacelebrityau today sunris studio neighbour wonderlandten etc\n",
            "xochitlsuckkk classi whore red velvet cupcak\n",
            "jason gio meh p thank head concern anoth angri dude twitter\n"
          ]
        }
      ],
      "source": [
        "print(processed_sentences[0])\n",
        "print(processed_sentences[1])\n",
        "print(processed_sentences[2])\n",
        "print(processed_sentences[3])"
      ]
    },
    {
      "cell_type": "markdown",
      "metadata": {
        "id": "xODFPfKjor1R"
      },
      "source": [
        "# model creation"
      ]
    },
    {
      "cell_type": "code",
      "source": [],
      "metadata": {
        "id": "-V3vDgMHosjR"
      },
      "execution_count": null,
      "outputs": []
    },
    {
      "cell_type": "code",
      "source": [],
      "metadata": {
        "id": "9jb0PegcotnE"
      },
      "execution_count": null,
      "outputs": []
    },
    {
      "cell_type": "code",
      "execution_count": 10,
      "metadata": {
        "id": "Wj3IHt3zowiZ"
      },
      "outputs": [],
      "source": [
        "from tensorflow.keras.layers import Embedding,Dropout\n",
        "from tensorflow.keras.preprocessing.sequence import pad_sequences\n",
        "from tensorflow.keras.models import Sequential\n",
        "from tensorflow.keras.preprocessing.text import one_hot\n",
        "from tensorflow.keras.layers import LSTM\n",
        "from tensorflow.keras.layers import Dense"
      ]
    },
    {
      "cell_type": "code",
      "source": [],
      "metadata": {
        "id": "xfiFH01couRn"
      },
      "execution_count": null,
      "outputs": []
    },
    {
      "cell_type": "code",
      "execution_count": 11,
      "metadata": {
        "id": "ghklNBrKo1HG"
      },
      "outputs": [],
      "source": [
        "### Vocabulary size\n",
        "voc_size=5000"
      ]
    },
    {
      "cell_type": "code",
      "execution_count": 12,
      "metadata": {
        "colab": {
          "base_uri": "https://localhost:8080/"
        },
        "id": "pJ0NY9vTpGtr",
        "outputId": "e394789a-38e0-4ef0-e303-43066f6f1442"
      },
      "outputs": [
        {
          "output_type": "execute_result",
          "data": {
            "text/plain": [
              "[5988, 4709, 7760, 7089, 8084]"
            ]
          },
          "metadata": {},
          "execution_count": 12
        }
      ],
      "source": [
        "onehot_repr=[one_hot(words,voc_size)for words in processed_sentences] \n",
        "onehot_repr[0]"
      ]
    },
    {
      "cell_type": "code",
      "execution_count": 39,
      "metadata": {
        "colab": {
          "base_uri": "https://localhost:8080/"
        },
        "id": "U6swyX6PpP2g",
        "outputId": "13bcb2e6-41c5-456a-830b-c29144ba3db4"
      },
      "outputs": [
        {
          "output_type": "stream",
          "name": "stdout",
          "text": [
            "[[   0    0    0 ... 7760 7089 8084]\n",
            " [   0    0    0 ... 3099 6996 9352]\n",
            " [   0    0    0 ... 8055 9508 6402]\n",
            " ...\n",
            " [   0    0    0 ... 5086   50 9331]\n",
            " [   0    0    0 ... 9331 5379 1536]\n",
            " [   0    0    0 ... 1536 8153 5688]]\n"
          ]
        }
      ],
      "source": [
        "sent_length=20\n",
        "embedded_docs=pad_sequences(onehot_repr,padding='pre',maxlen=sent_length)\n",
        "print(embedded_docs)"
      ]
    },
    {
      "cell_type": "code",
      "execution_count": 40,
      "metadata": {
        "colab": {
          "base_uri": "https://localhost:8080/"
        },
        "id": "JBxA0LHqpWs0",
        "outputId": "009c6d2c-d99d-433c-e29e-dfd19cca6b8d"
      },
      "outputs": [
        {
          "output_type": "stream",
          "name": "stdout",
          "text": [
            "Model: \"sequential_3\"\n",
            "_________________________________________________________________\n",
            " Layer (type)                Output Shape              Param #   \n",
            "=================================================================\n",
            " embedding_3 (Embedding)     (None, 20, 20)            200000    \n",
            "                                                                 \n",
            " dropout_6 (Dropout)         (None, 20, 20)            0         \n",
            "                                                                 \n",
            " lstm_3 (LSTM)               (None, 100)               48400     \n",
            "                                                                 \n",
            " dropout_7 (Dropout)         (None, 100)               0         \n",
            "                                                                 \n",
            " dense_3 (Dense)             (None, 1)                 101       \n",
            "                                                                 \n",
            "=================================================================\n",
            "Total params: 248,501\n",
            "Trainable params: 248,501\n",
            "Non-trainable params: 0\n",
            "_________________________________________________________________\n",
            "None\n"
          ]
        }
      ],
      "source": [
        "## Creating model\n",
        "embedding_vector_features=20\n",
        "model=Sequential()\n",
        "model.add(Embedding(voc_size,embedding_vector_features,input_length=sent_length))\n",
        "model.add(Dropout(0.3))\n",
        "model.add(LSTM(100))\n",
        "model.add(Dropout(0.2))\n",
        "model.add(Dense(1,activation='sigmoid'))\n",
        "model.compile(loss='binary_crossentropy',optimizer='adam',metrics=['accuracy'])\n",
        "print(model.summary())"
      ]
    },
    {
      "cell_type": "code",
      "execution_count": 41,
      "metadata": {
        "colab": {
          "base_uri": "https://localhost:8080/"
        },
        "id": "XVN8VhU-qXZ6",
        "outputId": "49d33641-5f5c-4c4a-cc59-2b76869a6bdd"
      },
      "outputs": [
        {
          "output_type": "stream",
          "name": "stdout",
          "text": [
            "(47692, 20)\n",
            "(47692,)\n"
          ]
        }
      ],
      "source": [
        "import numpy as np\n",
        "y = yy.copy().astype('float32')\n",
        "x_final=np.array(embedded_docs)\n",
        "y_final=np.array(y)\n",
        "\n",
        "print(x_final.shape)\n",
        "print(y_final.shape)"
      ]
    },
    {
      "cell_type": "code",
      "execution_count": 42,
      "metadata": {
        "id": "VU_J-vUauWxI"
      },
      "outputs": [],
      "source": [
        "from sklearn.model_selection import train_test_split\n",
        "X_train, X_test, y_train, y_test = train_test_split(x_final, y_final, test_size=0.10, random_state=42)"
      ]
    },
    {
      "cell_type": "code",
      "execution_count": 16,
      "metadata": {
        "id": "PmYu-3bN4pxf"
      },
      "outputs": [],
      "source": []
    },
    {
      "cell_type": "code",
      "execution_count": 16,
      "metadata": {
        "id": "tFKYzz7_5UZR"
      },
      "outputs": [],
      "source": []
    },
    {
      "cell_type": "code",
      "execution_count": 43,
      "metadata": {
        "id": "U1HRgIGIueJ4",
        "colab": {
          "base_uri": "https://localhost:8080/"
        },
        "outputId": "c30ffd1c-bd0e-4158-9912-a9a938d76861"
      },
      "outputs": [
        {
          "output_type": "stream",
          "name": "stdout",
          "text": [
            "Epoch 1/6\n",
            "1074/1074 [==============================] - 39s 34ms/step - loss: 0.3079 - accuracy: 0.8458 - val_loss: 0.3004 - val_accuracy: 0.8632\n",
            "Epoch 2/6\n",
            "1074/1074 [==============================] - 35s 32ms/step - loss: 0.2441 - accuracy: 0.8790 - val_loss: 0.2759 - val_accuracy: 0.8603\n",
            "Epoch 3/6\n",
            "1074/1074 [==============================] - 35s 32ms/step - loss: 0.2160 - accuracy: 0.8960 - val_loss: 0.2955 - val_accuracy: 0.8546\n",
            "Epoch 4/6\n",
            "1074/1074 [==============================] - 38s 35ms/step - loss: 0.1956 - accuracy: 0.9059 - val_loss: 0.3094 - val_accuracy: 0.8523\n",
            "Epoch 5/6\n",
            "1074/1074 [==============================] - 35s 33ms/step - loss: 0.1762 - accuracy: 0.9167 - val_loss: 0.3830 - val_accuracy: 0.8458\n",
            "Epoch 6/6\n",
            "1074/1074 [==============================] - 38s 35ms/step - loss: 0.1606 - accuracy: 0.9252 - val_loss: 0.3821 - val_accuracy: 0.8417\n"
          ]
        }
      ],
      "source": [
        "history = model.fit(X_train,y_train,validation_split=0.2,epochs=6,size)"
      ]
    },
    {
      "cell_type": "code",
      "source": [
        "import matplotlib.pyplot as plt\n",
        "plt.subplot(2, 2, 1)\n",
        "plt.plot(history.history['loss'], label='Training Loss')\n",
        "plt.plot(history.history['val_loss'], label='Validation Loss')\n",
        "plt.xlabel('Epoch')\n",
        "plt.ylabel('Loss')\n",
        "plt.legend()\n",
        "\n",
        "# Plot training and validation accuracy\n",
        "plt.subplot(2, 2, 2)\n",
        "plt.plot(history.history['accuracy'], label='Training Accuracy')\n",
        "plt.plot(history.history['val_accuracy'], label='Validation Accuracy')\n",
        "plt.xlabel('Epoch')\n",
        "plt.ylabel('Accuracy')\n",
        "plt.legend()\n",
        "\n",
        "plt.show()"
      ],
      "metadata": {
        "colab": {
          "base_uri": "https://localhost:8080/",
          "height": 161
        },
        "id": "qfOuOaNZaUuK",
        "outputId": "be37efdb-c96e-4689-d066-a3e55627917b"
      },
      "execution_count": 44,
      "outputs": [
        {
          "output_type": "display_data",
          "data": {
            "text/plain": [
              "<Figure size 432x288 with 2 Axes>"
            ],
            "image/png": "[encoded data removed]"
          },
          "metadata": {
            "needs_background": "light"
          }
        }
      ]
    },
    {
      "cell_type": "code",
      "execution_count": 45,
      "metadata": {
        "id": "YAlIQFEj5VlL",
        "colab": {
          "base_uri": "https://localhost:8080/"
        },
        "outputId": "003bed09-ac3d-4484-ab28-48987dffd7e5"
      },
      "outputs": [
        {
          "output_type": "stream",
          "name": "stdout",
          "text": [
            "150/150 [==============================] - 2s 9ms/step\n"
          ]
        }
      ],
      "source": [
        "y_pred= model.predict(X_test)\n",
        "\n",
        "y_pred_classes = (y_pred >= 0.5).astype(int)\n",
        "\n"
      ]
    },
    {
      "cell_type": "code",
      "execution_count": 46,
      "metadata": {
        "id": "-6QHvrTy6BR1",
        "colab": {
          "base_uri": "https://localhost:8080/"
        },
        "outputId": "9e47aba7-b224-476b-ce29-ac0e3ac2432e"
      },
      "outputs": [
        {
          "output_type": "stream",
          "name": "stdout",
          "text": [
            "[[0.999996  ]\n",
            " [0.98344886]\n",
            " [0.9999829 ]\n",
            " ...\n",
            " [0.99999875]\n",
            " [0.99999076]\n",
            " [0.8549212 ]]\n",
            "638\n"
          ]
        }
      ],
      "source": [
        "print(y_pred)\n",
        "res = 0\n",
        "for i in y_pred_classes:\n",
        "  if i==0:\n",
        "    res += 1\n",
        "print(res)"
      ]
    },
    {
      "cell_type": "code",
      "execution_count": 47,
      "metadata": {
        "id": "ob0OL-mI5n_1",
        "colab": {
          "base_uri": "https://localhost:8080/"
        },
        "outputId": "59a31729-aa66-418b-a7c5-4780c0e1c500"
      },
      "outputs": [
        {
          "output_type": "execute_result",
          "data": {
            "text/plain": [
              "array([[ 350,  437],\n",
              "       [ 288, 3695]])"
            ]
          },
          "metadata": {},
          "execution_count": 47
        }
      ],
      "source": [
        "from sklearn.metrics import confusion_matrix\n",
        "confusion_matrix(y_test,y_pred_classes)"
      ]
    },
    {
      "cell_type": "code",
      "execution_count": 20,
      "metadata": {
        "id": "y6JzdcfoBxEU"
      },
      "outputs": [],
      "source": []
    },
    {
      "cell_type": "code",
      "execution_count": 48,
      "metadata": {
        "id": "WQ_5m4_kBKl5",
        "colab": {
          "base_uri": "https://localhost:8080/"
        },
        "outputId": "960a885c-7eb0-446d-bc9a-f49c0c4addb8"
      },
      "outputs": [
        {
          "output_type": "stream",
          "name": "stdout",
          "text": [
            "Accuracy: 0.8480083857442348\n"
          ]
        }
      ],
      "source": [
        "from sklearn.metrics import accuracy_score\n",
        "\n",
        "accuracy = accuracy_score(y_test, y_pred_classes)\n",
        "print(\"Accuracy:\", accuracy)"
      ]
    },
    {
      "cell_type": "code",
      "execution_count": 35,
      "metadata": {
        "id": "zTEuUWm3Byjs",
        "colab": {
          "base_uri": "https://localhost:8080/"
        },
        "outputId": "cb3ee7e4-5aab-40d1-f4af-519879daf36d"
      },
      "outputs": [
        {
          "output_type": "stream",
          "name": "stdout",
          "text": [
            "[[4494]]\n",
            "1/1 [==============================] - 0s 39ms/step\n",
            "[[0.9663627]]\n"
          ]
        }
      ],
      "source": [
        "s = \"In\"\n",
        "onehot_s=[one_hot(s,voc_size)]\n",
        "print(onehot_s) \n",
        "sent_length=40\n",
        "s_embeded=pad_sequences(onehot_s,padding='pre',maxlen=sent_length)\n",
        "cs = np.array(s_embeded)\n",
        "y  = model.predict(cs)\n",
        "#print(cs)\n",
        "print(y)\n",
        "#print(embedded_docs)\n"
      ]
    }
  ],
  "metadata": {
    "colab": {
      "provenance": [],
      "mount_file_id": "17T4E9D5zMsbjli01cH5QUqGJVfOKXcLG",
      "authorship_tag": "ABX9TyOtVC11B3LGoXIqvwku/y4A",
      "include_colab_link": true
    },
    "kernelspec": {
      "display_name": "Python 3",
      "name": "python3"
    },
    "language_info": {
      "name": "python"
    }
  },
  "nbformat": 4,
  "nbformat_minor": 0
}