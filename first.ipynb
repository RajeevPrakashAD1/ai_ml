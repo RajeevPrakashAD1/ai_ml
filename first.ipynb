{
  "nbformat": 4,
  "nbformat_minor": 0,
  "metadata": {
    "colab": {
      "provenance": [],
      "mount_file_id": "1jEc0hOuCTeAK0WqjhSYO4J1IXZlDtb1I",
      "authorship_tag": "ABX9TyMSGurwMgkie+XN3RN25GLx",
      "include_colab_link": true
    },
    "kernelspec": {
      "name": "python3",
      "display_name": "Python 3"
    },
    "language_info": {
      "name": "python"
    }
  },
  "cells": [
    {
      "cell_type": "markdown",
      "metadata": {
        "id": "view-in-github",
        "colab_type": "text"
      },
      "source": [
        "<a href=\"https://colab.research.google.com/github/RajeevPrakashAD1/ai_ml/blob/master/first.ipynb\" target=\"_parent\"><img src=\"https://colab.research.google.com/assets/colab-badge.svg\" alt=\"Open In Colab\"/></a>"
      ]
    },
    {
      "cell_type": "code",
      "execution_count": null,
      "metadata": {
        "id": "ZFHoBG-3RuTf"
      },
      "outputs": [],
      "source": [
        "import numpy as np\n",
        "import pandas as pd\n",
        "import matplotlib.pyplot as plt\n",
        "import keras\n",
        "from keras.models import Sequential\n",
        "from keras.layers import Dense,LeakyReLU,PReLU,ELU,Dropout,Activation\n",
        "from keras.wrappers.scikit_learn import KerasClassifier\n",
        "from sklearn.model_selection import GridSearchCV"
      ]
    },
    {
      "cell_type": "code",
      "source": [],
      "metadata": {
        "id": "F5vdPQM9ij-8"
      },
      "execution_count": null,
      "outputs": []
    },
    {
      "cell_type": "code",
      "source": [],
      "metadata": {
        "id": "2fPbBHmaimwk"
      },
      "execution_count": null,
      "outputs": []
    },
    {
      "cell_type": "code",
      "source": [
        "df = pd.read_csv('/content/drive/MyDrive/Colab Notebooks/Churn_Modelling.csv')\n",
        "print(df.columns)\n",
        "x = df.drop(['RowNumber','CustomerId','Surname','Exited'],axis='columns')\n",
        "y = df['Exited']\n",
        "print(x)\n"
      ],
      "metadata": {
        "colab": {
          "base_uri": "https://localhost:8080/"
        },
        "id": "v499ylQ3Tcd2",
        "outputId": "980b3a90-0233-4f84-fb36-b50510d6e588"
      },
      "execution_count": null,
      "outputs": [
        {
          "output_type": "stream",
          "name": "stdout",
          "text": [
            "Index(['RowNumber', 'CustomerId', 'Surname', 'CreditScore', 'Geography',\n",
            "       'Gender', 'Age', 'Tenure', 'Balance', 'NumOfProducts', 'HasCrCard',\n",
            "       'IsActiveMember', 'EstimatedSalary', 'Exited'],\n",
            "      dtype='object')\n",
            "      CreditScore Geography  Gender  Age  Tenure    Balance  NumOfProducts  \\\n",
            "0             619    France  Female   42       2       0.00              1   \n",
            "1             608     Spain  Female   41       1   83807.86              1   \n",
            "2             502    France  Female   42       8  159660.80              3   \n",
            "3             699    France  Female   39       1       0.00              2   \n",
            "4             850     Spain  Female   43       2  125510.82              1   \n",
            "...           ...       ...     ...  ...     ...        ...            ...   \n",
            "9995          771    France    Male   39       5       0.00              2   \n",
            "9996          516    France    Male   35      10   57369.61              1   \n",
            "9997          709    France  Female   36       7       0.00              1   \n",
            "9998          772   Germany    Male   42       3   75075.31              2   \n",
            "9999          792    France  Female   28       4  130142.79              1   \n",
            "\n",
            "      HasCrCard  IsActiveMember  EstimatedSalary  \n",
            "0             1               1        101348.88  \n",
            "1             0               1        112542.58  \n",
            "2             1               0        113931.57  \n",
            "3             0               0         93826.63  \n",
            "4             1               1         79084.10  \n",
            "...         ...             ...              ...  \n",
            "9995          1               0         96270.64  \n",
            "9996          1               1        101699.77  \n",
            "9997          0               1         42085.58  \n",
            "9998          1               0         92888.52  \n",
            "9999          1               0         38190.78  \n",
            "\n",
            "[10000 rows x 10 columns]\n"
          ]
        }
      ]
    },
    {
      "cell_type": "code",
      "source": [
        "#getting dummies variable for categorical\n",
        "geo_dummy = pd.get_dummies(x[\"Geography\"],drop_first='True')\n",
        "gender_dummy = pd.get_dummies(x['Gender'],drop_first=\"True\")\n",
        "df1 = pd.concat([x,geo_dummy,gender_dummy],axis='columns')\n",
        "df1.drop([\"Geography\",\"Gender\"],axis=\"columns\",inplace=True)\n",
        "\n",
        "print(df1)"
      ],
      "metadata": {
        "colab": {
          "base_uri": "https://localhost:8080/"
        },
        "id": "MJm-tpW1UK2x",
        "outputId": "01a56b2a-94a5-4204-c2b4-d2b2b2938a29"
      },
      "execution_count": null,
      "outputs": [
        {
          "output_type": "stream",
          "name": "stdout",
          "text": [
            "      CreditScore  Age  Tenure    Balance  NumOfProducts  HasCrCard  \\\n",
            "0             619   42       2       0.00              1          1   \n",
            "1             608   41       1   83807.86              1          0   \n",
            "2             502   42       8  159660.80              3          1   \n",
            "3             699   39       1       0.00              2          0   \n",
            "4             850   43       2  125510.82              1          1   \n",
            "...           ...  ...     ...        ...            ...        ...   \n",
            "9995          771   39       5       0.00              2          1   \n",
            "9996          516   35      10   57369.61              1          1   \n",
            "9997          709   36       7       0.00              1          0   \n",
            "9998          772   42       3   75075.31              2          1   \n",
            "9999          792   28       4  130142.79              1          1   \n",
            "\n",
            "      IsActiveMember  EstimatedSalary  Germany  Spain  Male  \n",
            "0                  1        101348.88        0      0     0  \n",
            "1                  1        112542.58        0      1     0  \n",
            "2                  0        113931.57        0      0     0  \n",
            "3                  0         93826.63        0      0     0  \n",
            "4                  1         79084.10        0      1     0  \n",
            "...              ...              ...      ...    ...   ...  \n",
            "9995               0         96270.64        0      0     1  \n",
            "9996               1        101699.77        0      0     1  \n",
            "9997               1         42085.58        0      0     0  \n",
            "9998               0         92888.52        1      0     1  \n",
            "9999               0         38190.78        0      0     0  \n",
            "\n",
            "[10000 rows x 11 columns]\n"
          ]
        }
      ]
    },
    {
      "cell_type": "code",
      "source": [
        "from sklearn.model_selection import train_test_split;\n",
        "x_train,x_test,y_train,y_test = train_test_split(df1,y,test_size=0.2)\n",
        "y_train = y_train.values.reshape(-1,1)\n",
        "y_test = y_test.values.reshape(-1,1)\n"
      ],
      "metadata": {
        "id": "ywIC1HWvYa0Z"
      },
      "execution_count": null,
      "outputs": []
    },
    {
      "cell_type": "code",
      "source": [
        "from pandas.core.common import standardize_mapping\n",
        "#feature scalling\n",
        "#basically it scales features and change the magnitude of input to a standaed scale\n",
        "from sklearn.preprocessing import StandardScaler\n",
        "x_train = StandardScaler().fit_transform(x_train)\n",
        "x_test = StandardScaler().fit_transform(x_test)\n",
        "# print(x_train,y_train)"
      ],
      "metadata": {
        "id": "CkaUsWUkUaHA"
      },
      "execution_count": null,
      "outputs": []
    },
    {
      "cell_type": "code",
      "source": [
        "\n",
        "\n"
      ],
      "metadata": {
        "id": "I7olelaocbdZ"
      },
      "execution_count": null,
      "outputs": []
    },
    {
      "cell_type": "code",
      "source": [
        "classifier = Sequential()\n",
        "#classifier.add(Dense(output_dim=6,init=\"he_uniform\",activation=\"relu\",input_dim=11))\n",
        "classifier.add(Dense(units=6,kernel_initializer=\"he_uniform\",activation=\"relu\",input_dim=11))\n",
        "classifier.add(Dense(units=6,kernel_initializer=\"he_uniform\",activation=\"relu\"))\n",
        "classifier.add(Dense(units=1,kernel_initializer='glorot_uniform',activation='sigmoid'))\n",
        "\n",
        "#optimiser\n",
        "classifier.compile(optimizer='adam',loss='binary_crossentropy',metrics=['accuracy'])\n",
        "                   \n",
        "print(classifier.summary())\n"
      ],
      "metadata": {
        "colab": {
          "base_uri": "https://localhost:8080/"
        },
        "id": "1szP2lDOda4g",
        "outputId": "7f4c69f0-2f8a-4fc3-a964-cc6cb93b13eb"
      },
      "execution_count": null,
      "outputs": [
        {
          "output_type": "stream",
          "name": "stdout",
          "text": [
            "Model: \"sequential_132\"\n",
            "_________________________________________________________________\n",
            " Layer (type)                Output Shape              Param #   \n",
            "=================================================================\n",
            " dense_137 (Dense)           (None, 6)                 72        \n",
            "                                                                 \n",
            " dense_138 (Dense)           (None, 6)                 42        \n",
            "                                                                 \n",
            " dense_139 (Dense)           (None, 1)                 7         \n",
            "                                                                 \n",
            "=================================================================\n",
            "Total params: 121\n",
            "Trainable params: 121\n",
            "Non-trainable params: 0\n",
            "_________________________________________________________________\n",
            "None\n"
          ]
        }
      ]
    },
    {
      "cell_type": "code",
      "source": [
        "model_history = classifier.fit(x_train,y_train,validation_split=0.33,batch_size=10,epochs=100)"
      ],
      "metadata": {
        "colab": {
          "base_uri": "https://localhost:8080/"
        },
        "id": "YikfuWiWioYO",
        "outputId": "8729dcfb-5329-4626-f16a-3e131e1699bd"
      },
      "execution_count": null,
      "outputs": [
        {
          "output_type": "stream",
          "name": "stdout",
          "text": [
            "Epoch 1/100\n",
            "536/536 [==============================] - 3s 4ms/step - loss: 0.6153 - accuracy: 0.6824 - val_loss: 0.4726 - val_accuracy: 0.8080\n",
            "Epoch 2/100\n",
            "536/536 [==============================] - 2s 3ms/step - loss: 0.4582 - accuracy: 0.8028 - val_loss: 0.4416 - val_accuracy: 0.8118\n",
            "Epoch 3/100\n",
            "536/536 [==============================] - 2s 3ms/step - loss: 0.4327 - accuracy: 0.8138 - val_loss: 0.4269 - val_accuracy: 0.8217\n",
            "Epoch 4/100\n",
            "536/536 [==============================] - 2s 3ms/step - loss: 0.4234 - accuracy: 0.8145 - val_loss: 0.4200 - val_accuracy: 0.8251\n",
            "Epoch 5/100\n",
            "536/536 [==============================] - 2s 3ms/step - loss: 0.4181 - accuracy: 0.8168 - val_loss: 0.4141 - val_accuracy: 0.8281\n",
            "Epoch 6/100\n",
            "536/536 [==============================] - 2s 4ms/step - loss: 0.4143 - accuracy: 0.8205 - val_loss: 0.4085 - val_accuracy: 0.8319\n",
            "Epoch 7/100\n",
            "536/536 [==============================] - 2s 4ms/step - loss: 0.4102 - accuracy: 0.8233 - val_loss: 0.4037 - val_accuracy: 0.8387\n",
            "Epoch 8/100\n",
            "536/536 [==============================] - 1s 3ms/step - loss: 0.4066 - accuracy: 0.8266 - val_loss: 0.3997 - val_accuracy: 0.8338\n",
            "Epoch 9/100\n",
            "536/536 [==============================] - 2s 3ms/step - loss: 0.4018 - accuracy: 0.8261 - val_loss: 0.3923 - val_accuracy: 0.8413\n",
            "Epoch 10/100\n",
            "536/536 [==============================] - 1s 3ms/step - loss: 0.3942 - accuracy: 0.8291 - val_loss: 0.3867 - val_accuracy: 0.8432\n",
            "Epoch 11/100\n",
            "536/536 [==============================] - 2s 3ms/step - loss: 0.3865 - accuracy: 0.8337 - val_loss: 0.3773 - val_accuracy: 0.8482\n",
            "Epoch 12/100\n",
            "536/536 [==============================] - 2s 3ms/step - loss: 0.3791 - accuracy: 0.8356 - val_loss: 0.3697 - val_accuracy: 0.8523\n",
            "Epoch 13/100\n",
            "536/536 [==============================] - 2s 4ms/step - loss: 0.3721 - accuracy: 0.8391 - val_loss: 0.3638 - val_accuracy: 0.8527\n",
            "Epoch 14/100\n",
            "536/536 [==============================] - 3s 5ms/step - loss: 0.3677 - accuracy: 0.8444 - val_loss: 0.3573 - val_accuracy: 0.8542\n",
            "Epoch 15/100\n",
            "536/536 [==============================] - 2s 3ms/step - loss: 0.3631 - accuracy: 0.8449 - val_loss: 0.3526 - val_accuracy: 0.8565\n",
            "Epoch 16/100\n",
            "536/536 [==============================] - 2s 3ms/step - loss: 0.3595 - accuracy: 0.8472 - val_loss: 0.3491 - val_accuracy: 0.8599\n",
            "Epoch 17/100\n",
            "536/536 [==============================] - 2s 3ms/step - loss: 0.3567 - accuracy: 0.8487 - val_loss: 0.3460 - val_accuracy: 0.8610\n",
            "Epoch 18/100\n",
            "536/536 [==============================] - 2s 3ms/step - loss: 0.3542 - accuracy: 0.8515 - val_loss: 0.3438 - val_accuracy: 0.8607\n",
            "Epoch 19/100\n",
            "536/536 [==============================] - 2s 3ms/step - loss: 0.3537 - accuracy: 0.8520 - val_loss: 0.3432 - val_accuracy: 0.8629\n",
            "Epoch 20/100\n",
            "536/536 [==============================] - 2s 3ms/step - loss: 0.3519 - accuracy: 0.8509 - val_loss: 0.3409 - val_accuracy: 0.8652\n",
            "Epoch 21/100\n",
            "536/536 [==============================] - 3s 5ms/step - loss: 0.3507 - accuracy: 0.8524 - val_loss: 0.3402 - val_accuracy: 0.8637\n",
            "Epoch 22/100\n",
            "536/536 [==============================] - 2s 4ms/step - loss: 0.3495 - accuracy: 0.8509 - val_loss: 0.3395 - val_accuracy: 0.8644\n",
            "Epoch 23/100\n",
            "536/536 [==============================] - 2s 3ms/step - loss: 0.3485 - accuracy: 0.8541 - val_loss: 0.3394 - val_accuracy: 0.8626\n",
            "Epoch 24/100\n",
            "536/536 [==============================] - 2s 3ms/step - loss: 0.3480 - accuracy: 0.8511 - val_loss: 0.3389 - val_accuracy: 0.8629\n",
            "Epoch 25/100\n",
            "536/536 [==============================] - 2s 3ms/step - loss: 0.3466 - accuracy: 0.8552 - val_loss: 0.3390 - val_accuracy: 0.8660\n",
            "Epoch 26/100\n",
            "536/536 [==============================] - 2s 3ms/step - loss: 0.3461 - accuracy: 0.8537 - val_loss: 0.3362 - val_accuracy: 0.8667\n",
            "Epoch 27/100\n",
            "536/536 [==============================] - 2s 3ms/step - loss: 0.3448 - accuracy: 0.8545 - val_loss: 0.3354 - val_accuracy: 0.8652\n",
            "Epoch 28/100\n",
            "536/536 [==============================] - 2s 5ms/step - loss: 0.3444 - accuracy: 0.8552 - val_loss: 0.3348 - val_accuracy: 0.8667\n",
            "Epoch 29/100\n",
            "536/536 [==============================] - 2s 4ms/step - loss: 0.3431 - accuracy: 0.8535 - val_loss: 0.3342 - val_accuracy: 0.8682\n",
            "Epoch 30/100\n",
            "536/536 [==============================] - 2s 3ms/step - loss: 0.3431 - accuracy: 0.8563 - val_loss: 0.3332 - val_accuracy: 0.8660\n",
            "Epoch 31/100\n",
            "536/536 [==============================] - 2s 3ms/step - loss: 0.3422 - accuracy: 0.8537 - val_loss: 0.3346 - val_accuracy: 0.8694\n",
            "Epoch 32/100\n",
            "536/536 [==============================] - 2s 3ms/step - loss: 0.3421 - accuracy: 0.8558 - val_loss: 0.3311 - val_accuracy: 0.8697\n",
            "Epoch 33/100\n",
            "536/536 [==============================] - 2s 3ms/step - loss: 0.3413 - accuracy: 0.8572 - val_loss: 0.3324 - val_accuracy: 0.8686\n",
            "Epoch 34/100\n",
            "536/536 [==============================] - 2s 3ms/step - loss: 0.3404 - accuracy: 0.8565 - val_loss: 0.3311 - val_accuracy: 0.8697\n",
            "Epoch 35/100\n",
            "536/536 [==============================] - 2s 3ms/step - loss: 0.3407 - accuracy: 0.8593 - val_loss: 0.3314 - val_accuracy: 0.8701\n",
            "Epoch 36/100\n",
            "536/536 [==============================] - 3s 5ms/step - loss: 0.3391 - accuracy: 0.8591 - val_loss: 0.3312 - val_accuracy: 0.8663\n",
            "Epoch 37/100\n",
            "536/536 [==============================] - 2s 4ms/step - loss: 0.3390 - accuracy: 0.8615 - val_loss: 0.3299 - val_accuracy: 0.8682\n",
            "Epoch 38/100\n",
            "536/536 [==============================] - 2s 3ms/step - loss: 0.3386 - accuracy: 0.8591 - val_loss: 0.3306 - val_accuracy: 0.8701\n",
            "Epoch 39/100\n",
            "536/536 [==============================] - 2s 3ms/step - loss: 0.3383 - accuracy: 0.8571 - val_loss: 0.3324 - val_accuracy: 0.8679\n",
            "Epoch 40/100\n",
            "536/536 [==============================] - 2s 3ms/step - loss: 0.3386 - accuracy: 0.8600 - val_loss: 0.3298 - val_accuracy: 0.8705\n",
            "Epoch 41/100\n",
            "536/536 [==============================] - 2s 3ms/step - loss: 0.3384 - accuracy: 0.8599 - val_loss: 0.3316 - val_accuracy: 0.8667\n",
            "Epoch 42/100\n",
            "536/536 [==============================] - 2s 3ms/step - loss: 0.3376 - accuracy: 0.8591 - val_loss: 0.3318 - val_accuracy: 0.8697\n",
            "Epoch 43/100\n",
            "536/536 [==============================] - 3s 5ms/step - loss: 0.3376 - accuracy: 0.8604 - val_loss: 0.3300 - val_accuracy: 0.8667\n",
            "Epoch 44/100\n",
            "536/536 [==============================] - 2s 4ms/step - loss: 0.3374 - accuracy: 0.8600 - val_loss: 0.3298 - val_accuracy: 0.8697\n",
            "Epoch 45/100\n",
            "536/536 [==============================] - 2s 3ms/step - loss: 0.3372 - accuracy: 0.8586 - val_loss: 0.3291 - val_accuracy: 0.8713\n",
            "Epoch 46/100\n",
            "536/536 [==============================] - 2s 3ms/step - loss: 0.3369 - accuracy: 0.8599 - val_loss: 0.3298 - val_accuracy: 0.8682\n",
            "Epoch 47/100\n",
            "536/536 [==============================] - 1s 3ms/step - loss: 0.3366 - accuracy: 0.8615 - val_loss: 0.3300 - val_accuracy: 0.8697\n",
            "Epoch 48/100\n",
            "536/536 [==============================] - 2s 3ms/step - loss: 0.3369 - accuracy: 0.8606 - val_loss: 0.3282 - val_accuracy: 0.8697\n",
            "Epoch 49/100\n",
            "536/536 [==============================] - 2s 3ms/step - loss: 0.3366 - accuracy: 0.8606 - val_loss: 0.3281 - val_accuracy: 0.8690\n",
            "Epoch 50/100\n",
            "536/536 [==============================] - 2s 3ms/step - loss: 0.3358 - accuracy: 0.8595 - val_loss: 0.3279 - val_accuracy: 0.8690\n",
            "Epoch 51/100\n",
            "536/536 [==============================] - 3s 5ms/step - loss: 0.3360 - accuracy: 0.8584 - val_loss: 0.3294 - val_accuracy: 0.8701\n",
            "Epoch 52/100\n",
            "536/536 [==============================] - 2s 4ms/step - loss: 0.3360 - accuracy: 0.8599 - val_loss: 0.3307 - val_accuracy: 0.8694\n",
            "Epoch 53/100\n",
            "536/536 [==============================] - 2s 3ms/step - loss: 0.3361 - accuracy: 0.8617 - val_loss: 0.3285 - val_accuracy: 0.8690\n",
            "Epoch 54/100\n",
            "536/536 [==============================] - 2s 3ms/step - loss: 0.3358 - accuracy: 0.8597 - val_loss: 0.3275 - val_accuracy: 0.8701\n",
            "Epoch 55/100\n",
            "536/536 [==============================] - 2s 3ms/step - loss: 0.3349 - accuracy: 0.8621 - val_loss: 0.3276 - val_accuracy: 0.8697\n",
            "Epoch 56/100\n",
            "536/536 [==============================] - 2s 3ms/step - loss: 0.3351 - accuracy: 0.8608 - val_loss: 0.3310 - val_accuracy: 0.8656\n",
            "Epoch 57/100\n",
            "536/536 [==============================] - 2s 3ms/step - loss: 0.3350 - accuracy: 0.8608 - val_loss: 0.3287 - val_accuracy: 0.8679\n",
            "Epoch 58/100\n",
            "536/536 [==============================] - 2s 5ms/step - loss: 0.3354 - accuracy: 0.8593 - val_loss: 0.3285 - val_accuracy: 0.8682\n",
            "Epoch 59/100\n",
            "536/536 [==============================] - 2s 5ms/step - loss: 0.3343 - accuracy: 0.8608 - val_loss: 0.3307 - val_accuracy: 0.8675\n",
            "Epoch 60/100\n",
            "536/536 [==============================] - 2s 3ms/step - loss: 0.3345 - accuracy: 0.8621 - val_loss: 0.3280 - val_accuracy: 0.8690\n",
            "Epoch 61/100\n",
            "536/536 [==============================] - 2s 3ms/step - loss: 0.3341 - accuracy: 0.8600 - val_loss: 0.3291 - val_accuracy: 0.8724\n",
            "Epoch 62/100\n",
            "536/536 [==============================] - 2s 3ms/step - loss: 0.3346 - accuracy: 0.8623 - val_loss: 0.3277 - val_accuracy: 0.8716\n",
            "Epoch 63/100\n",
            "536/536 [==============================] - 2s 3ms/step - loss: 0.3349 - accuracy: 0.8595 - val_loss: 0.3276 - val_accuracy: 0.8690\n",
            "Epoch 64/100\n",
            "536/536 [==============================] - 2s 3ms/step - loss: 0.3334 - accuracy: 0.8619 - val_loss: 0.3273 - val_accuracy: 0.8724\n",
            "Epoch 65/100\n",
            "536/536 [==============================] - 2s 4ms/step - loss: 0.3342 - accuracy: 0.8595 - val_loss: 0.3274 - val_accuracy: 0.8724\n",
            "Epoch 66/100\n",
            "536/536 [==============================] - 2s 4ms/step - loss: 0.3339 - accuracy: 0.8615 - val_loss: 0.3268 - val_accuracy: 0.8697\n",
            "Epoch 67/100\n",
            "536/536 [==============================] - 2s 4ms/step - loss: 0.3337 - accuracy: 0.8615 - val_loss: 0.3331 - val_accuracy: 0.8648\n",
            "Epoch 68/100\n",
            "536/536 [==============================] - 2s 3ms/step - loss: 0.3334 - accuracy: 0.8606 - val_loss: 0.3292 - val_accuracy: 0.8660\n",
            "Epoch 69/100\n",
            "536/536 [==============================] - 1s 3ms/step - loss: 0.3331 - accuracy: 0.8627 - val_loss: 0.3282 - val_accuracy: 0.8686\n",
            "Epoch 70/100\n",
            "536/536 [==============================] - 2s 3ms/step - loss: 0.3330 - accuracy: 0.8602 - val_loss: 0.3275 - val_accuracy: 0.8709\n",
            "Epoch 71/100\n",
            "536/536 [==============================] - 2s 3ms/step - loss: 0.3334 - accuracy: 0.8612 - val_loss: 0.3270 - val_accuracy: 0.8694\n",
            "Epoch 72/100\n",
            "536/536 [==============================] - 2s 3ms/step - loss: 0.3332 - accuracy: 0.8614 - val_loss: 0.3281 - val_accuracy: 0.8709\n",
            "Epoch 73/100\n",
            "536/536 [==============================] - 3s 5ms/step - loss: 0.3334 - accuracy: 0.8610 - val_loss: 0.3276 - val_accuracy: 0.8667\n",
            "Epoch 74/100\n",
            "536/536 [==============================] - 2s 5ms/step - loss: 0.3334 - accuracy: 0.8602 - val_loss: 0.3294 - val_accuracy: 0.8667\n",
            "Epoch 75/100\n",
            "536/536 [==============================] - 2s 3ms/step - loss: 0.3324 - accuracy: 0.8627 - val_loss: 0.3306 - val_accuracy: 0.8656\n",
            "Epoch 76/100\n",
            "536/536 [==============================] - 1s 3ms/step - loss: 0.3325 - accuracy: 0.8608 - val_loss: 0.3274 - val_accuracy: 0.8682\n",
            "Epoch 77/100\n",
            "536/536 [==============================] - 2s 3ms/step - loss: 0.3323 - accuracy: 0.8617 - val_loss: 0.3321 - val_accuracy: 0.8675\n",
            "Epoch 78/100\n",
            "536/536 [==============================] - 2s 3ms/step - loss: 0.3329 - accuracy: 0.8614 - val_loss: 0.3294 - val_accuracy: 0.8671\n",
            "Epoch 79/100\n",
            "536/536 [==============================] - 2s 3ms/step - loss: 0.3319 - accuracy: 0.8642 - val_loss: 0.3274 - val_accuracy: 0.8686\n",
            "Epoch 80/100\n",
            "536/536 [==============================] - 2s 4ms/step - loss: 0.3323 - accuracy: 0.8608 - val_loss: 0.3279 - val_accuracy: 0.8694\n",
            "Epoch 81/100\n",
            "536/536 [==============================] - 3s 5ms/step - loss: 0.3321 - accuracy: 0.8625 - val_loss: 0.3269 - val_accuracy: 0.8697\n",
            "Epoch 82/100\n",
            "536/536 [==============================] - 2s 3ms/step - loss: 0.3324 - accuracy: 0.8617 - val_loss: 0.3274 - val_accuracy: 0.8667\n",
            "Epoch 83/100\n",
            "536/536 [==============================] - 2s 4ms/step - loss: 0.3320 - accuracy: 0.8615 - val_loss: 0.3282 - val_accuracy: 0.8671\n",
            "Epoch 84/100\n",
            "536/536 [==============================] - 2s 3ms/step - loss: 0.3313 - accuracy: 0.8632 - val_loss: 0.3291 - val_accuracy: 0.8656\n",
            "Epoch 85/100\n",
            "536/536 [==============================] - 2s 3ms/step - loss: 0.3314 - accuracy: 0.8621 - val_loss: 0.3297 - val_accuracy: 0.8663\n",
            "Epoch 86/100\n",
            "536/536 [==============================] - 2s 4ms/step - loss: 0.3312 - accuracy: 0.8627 - val_loss: 0.3300 - val_accuracy: 0.8652\n",
            "Epoch 87/100\n",
            "536/536 [==============================] - 3s 5ms/step - loss: 0.3311 - accuracy: 0.8621 - val_loss: 0.3324 - val_accuracy: 0.8648\n",
            "Epoch 88/100\n",
            "536/536 [==============================] - 3s 6ms/step - loss: 0.3314 - accuracy: 0.8634 - val_loss: 0.3319 - val_accuracy: 0.8644\n",
            "Epoch 89/100\n",
            "536/536 [==============================] - 2s 3ms/step - loss: 0.3311 - accuracy: 0.8632 - val_loss: 0.3275 - val_accuracy: 0.8671\n",
            "Epoch 90/100\n",
            "536/536 [==============================] - 2s 4ms/step - loss: 0.3307 - accuracy: 0.8612 - val_loss: 0.3270 - val_accuracy: 0.8697\n",
            "Epoch 91/100\n",
            "536/536 [==============================] - 2s 3ms/step - loss: 0.3319 - accuracy: 0.8634 - val_loss: 0.3283 - val_accuracy: 0.8671\n",
            "Epoch 92/100\n",
            "536/536 [==============================] - 2s 4ms/step - loss: 0.3307 - accuracy: 0.8619 - val_loss: 0.3283 - val_accuracy: 0.8690\n",
            "Epoch 93/100\n",
            "536/536 [==============================] - 2s 4ms/step - loss: 0.3309 - accuracy: 0.8638 - val_loss: 0.3324 - val_accuracy: 0.8633\n",
            "Epoch 94/100\n",
            "536/536 [==============================] - 3s 5ms/step - loss: 0.3301 - accuracy: 0.8647 - val_loss: 0.3299 - val_accuracy: 0.8660\n",
            "Epoch 95/100\n",
            "536/536 [==============================] - 2s 4ms/step - loss: 0.3309 - accuracy: 0.8632 - val_loss: 0.3288 - val_accuracy: 0.8667\n",
            "Epoch 96/100\n",
            "536/536 [==============================] - 2s 3ms/step - loss: 0.3305 - accuracy: 0.8634 - val_loss: 0.3279 - val_accuracy: 0.8682\n",
            "Epoch 97/100\n",
            "536/536 [==============================] - 2s 4ms/step - loss: 0.3306 - accuracy: 0.8636 - val_loss: 0.3285 - val_accuracy: 0.8667\n",
            "Epoch 98/100\n",
            "536/536 [==============================] - 2s 3ms/step - loss: 0.3304 - accuracy: 0.8638 - val_loss: 0.3290 - val_accuracy: 0.8667\n",
            "Epoch 99/100\n",
            "536/536 [==============================] - 2s 3ms/step - loss: 0.3304 - accuracy: 0.8608 - val_loss: 0.3299 - val_accuracy: 0.8679\n",
            "Epoch 100/100\n",
            "536/536 [==============================] - 3s 5ms/step - loss: 0.3303 - accuracy: 0.8647 - val_loss: 0.3280 - val_accuracy: 0.8675\n"
          ]
        }
      ]
    },
    {
      "cell_type": "code",
      "source": [
        "from sklearn.metrics import accuracy_score,confusion_matrix\n",
        "y_pred = classifier.predict(x_test)\n",
        "y_pred = (y_pred>0.5)\n",
        "score=accuracy_score(y_pred,y_test)\n",
        "print(score)\n",
        "\n",
        "cm = confusion_matrix(y_test,y_pred)\n",
        "print(cm)\n"
      ],
      "metadata": {
        "colab": {
          "base_uri": "https://localhost:8080/"
        },
        "id": "vbhnA1fylcuY",
        "outputId": "ea340f09-5bea-4187-d491-55c46f274ecc"
      },
      "execution_count": null,
      "outputs": [
        {
          "output_type": "stream",
          "name": "stdout",
          "text": [
            "63/63 [==============================] - 0s 2ms/step\n",
            "0.8545\n",
            "[[1505   76]\n",
            " [ 215  204]]\n"
          ]
        }
      ]
    },
    {
      "cell_type": "code",
      "source": [
        "from sklearn import metrics\n",
        "from keras.layers.core.activation import Activation\n",
        "def create_model(layers,activation):\n",
        "  model = Sequential()\n",
        "  for i,nodes in enumerate(layers):\n",
        "    if i==0:\n",
        "      model.add(Dense(nodes,input_dim=x_train.shape[1]))\n",
        "      model.add(Activation(activation))\n",
        "      model.add(Dropout(0.3))\n",
        "    else:\n",
        "      model.add(Dense(nodes))\n",
        "      model.add(Activation(activation))\n",
        "      model.add(Dropout(0.3))\n",
        "    \n",
        "    model.add(Dense(units=1,kernel_initializer='glorot_uniform',activaiton='ReLU'))\n",
        "    model.compile(optimizer='adam',loss='binary_crossentropy',metrics=['accuracy'])\n",
        "    return model\n",
        "    "
      ],
      "metadata": {
        "id": "RvLR66ZGtPcf"
      },
      "execution_count": null,
      "outputs": []
    },
    {
      "cell_type": "code",
      "source": [
        "\n",
        "# model = KerasClassifier(build_fn=create_model,verbose=0)\n",
        "\n",
        "# layers = [[20],[40,20],[45,30,15]]\n",
        "# activations=['relu','sigmoid']\n",
        "# param_grid = dict(layers=layers,activation=activations,batch_size=[128,256],epochs=[30])\n",
        "# grid = GridSearchCV(estimator=model,param_grid=param_grid,cv=5)\n",
        "# grid_result = grid.fit(x_train,y_train)"
      ],
      "metadata": {
        "id": "4cnWF2Ce1FFF"
      },
      "execution_count": null,
      "outputs": []
    }
  ]
}